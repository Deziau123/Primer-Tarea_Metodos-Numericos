{
  "nbformat": 4,
  "nbformat_minor": 0,
  "metadata": {
    "colab": {
      "name": "Primer Tarea.ipynb",
      "provenance": [],
      "collapsed_sections": []
    },
    "kernelspec": {
      "name": "python3",
      "display_name": "Python 3"
    }
  },
  "cells": [
    {
      "cell_type": "code",
      "metadata": {
        "id": "DISeCKi_iE6H"
      },
      "source": [
        "#Programa 1\n",
        "print(\"Este programa solicita un valor y dice si es par o impar\")\n",
        "value = int (input(\"Inserte un valor: \"))\n",
        "if value%2==0:\n",
        "    print(value, \"es par\")\n",
        "else:\n",
        "    print(value, \"es impar\")"
      ],
      "execution_count": null,
      "outputs": []
    },
    {
      "cell_type": "code",
      "metadata": {
        "id": "UMMT6MqRs1Ys"
      },
      "source": [
        "#Programa 2\n",
        "print(\"Este programa pide una cadena de caracteres y un número entero para imprimir la cadena tantas veces como el número entero\")\n",
        "a=str (input(\"Introduzca su cadena de caracteres:\"))\n",
        "b= int (input(\"Introduzca un número entero: \"))\n",
        "contador=0\n",
        "while contador<b:\n",
        "  contador=contador+1\n",
        "  print(a)"
      ],
      "execution_count": null,
      "outputs": []
    },
    {
      "cell_type": "code",
      "metadata": {
        "id": "cll5ZZ8n17px"
      },
      "source": [
        "#Programa 3\n",
        "print(\"Este programa solicita un número de horas tabajadas y muestra el pago correspondiente a 1, 5 y 20 días\\n\")\n",
        "def Pago_empleado(horas,float='150'):\n",
        "    pagopordia=horas*150\n",
        "    print(\"\\nEl pago por día es: \",pagopordia)\n",
        "    pagoporsemana= pagopordia*5\n",
        "    print(\"El pago por semana es: \",pagoporsemana)\n",
        "    pagopormes= pagoporsemana*20\n",
        "    print(\"El pago por mes es: \",pagopormes)\n",
        "Pago_empleado(float (input(\"Horas: \")))\n",
        "\n",
        " "
      ],
      "execution_count": null,
      "outputs": []
    },
    {
      "cell_type": "code",
      "metadata": {
        "id": "mrbbG4jeBJp_"
      },
      "source": [
        "#Programa 4\n",
        "print(\"Este programa es una calculadora\\n\")\n",
        "print(\"a) Suma\\nb) Resta\\nc) Multipliación\\nd) División\")\n",
        "def menu(a):\n",
        " if a=='a':\n",
        "  print(\"\\nSuma\")\n",
        "  def suma(val1,val2):\n",
        "    res = val1 + val2\n",
        "    print(\"El resultado es: \",res)\n",
        "  b=float(input(\"\\nValor 1: \"))\n",
        "  c=float(input(\"Valor 2: \"))\n",
        "  suma (b,c) \n",
        " elif a=='b':\n",
        "  print(\"\\nResta\")\n",
        "  def resta(val1,val2):\n",
        "    res = val1 - val2\n",
        "    print(\"El resultado es: \",res)\n",
        "  b=float(input(\"\\nValor 1: \"))\n",
        "  c=float(input(\"Valor 2: \"))\n",
        "  resta (b,c) \n",
        " elif a=='c':\n",
        "  print(\"\\nMultiplicación\")\n",
        "  def multiplicacion(val1,val2):\n",
        "    res = val1*val2\n",
        "    print(\"El resultado es: \",res)\n",
        "  b=float(input(\"\\nValor 1: \"))\n",
        "  c=float(input(\"Valor 2: \"))\n",
        "  multiplicacion (b,c) \n",
        " elif a=='d':\n",
        "  print(\"\\nDivisión\")\n",
        "  def division(val1,val2):\n",
        "      res = val1/val2\n",
        "      print(\"El resultado es: \",res)\n",
        "  b=float(input(\"\\nValor 1: \"))\n",
        "  c=float(input(\"Valor 2: \"))\n",
        "  while c==0:\n",
        "    print(\"Valor 2 no puede ser 0\")\n",
        "    division (b, float (input(\"Valor 2: \")))\n",
        "    break\n",
        "  else:\n",
        "    division (b,c)\n",
        " else:\n",
        "   print(a,\"no es una opción\\n\")\n",
        "   menu(str (input(\"\\nOpción:\")))\n",
        "menu(str (input(\"\\nOpción:\")))\n",
        "\n"
      ],
      "execution_count": null,
      "outputs": []
    },
    {
      "cell_type": "code",
      "metadata": {
        "id": "ql2JmlBPwH6M"
      },
      "source": [
        "#Programa 5\n",
        "print(\"Este programa toma pedidos de payasos y juegos de mesa con peso máximo de 10 kilos\")\n",
        "def pesopedido(val1,val2):\n",
        " if c > 10000:\n",
        "   return [c,False]\n",
        " else: \n",
        "   return [c,True]\n",
        "a=int (input(\"Numero de payasos: \"))*150\n",
        "b=int (input(\"Numero de juegos de mesa: \"))*170\n",
        "c=a+b\n",
        "res,status=pesopedido(a,b)\n",
        "\n",
        "if (status):\n",
        "  print(\"Aceptado, su pedido pesa: \",c, \"gramos\")\n",
        "else: \n",
        "  print(\"Denegado, el pedido rebasa los 10 kg por:\",c-10000,\"gramos\")"
      ],
      "execution_count": null,
      "outputs": []
    },
    {
      "cell_type": "code",
      "metadata": {
        "id": "TB3nFC5e62wa"
      },
      "source": [
        "#Problema 6\n",
        "#Debe regresar true a la función\n",
        "print(\"Este programa toma su salario bruto y le devuelve el salario neto descontando los impuestos\\n\")\n",
        "def salarioneto(salario):\n",
        " a= float (input(\"Ingrese su salario en pesos: \"))\n",
        " if a < 10000:\n",
        "   b= (a*.95)\n",
        "   print(\"\\nUsted gana menos de 10000, su salario tiene un descuento del 5%\")\n",
        "   return [b, True ]\n",
        " elif a>10000 and a<15000:\n",
        "   b=(a*.90)\n",
        "   print(\"\\nUsted gana más a 10000 pero menos de 15000, su salario tiene un descuento del 10%\")\n",
        "   return [b, True]\n",
        " elif a>15000 and a<20000:\n",
        "  b=(a*.85)\n",
        "  print(\"\\nUsted gana más de 15000 pero menos que 20000 su salario tiene un descuento del 15%\")\n",
        "  return [b, True]\n",
        " elif a>20000:\n",
        "  b=(a*.82)\n",
        "  print(\"\\nUsted gana más de 20000, su salario tiene un descuento del 18%\")\n",
        "  return [b, True]\n",
        "res,status=salarioneto(a)\n",
        "\n",
        "if (status): \n",
        "  print (\"Su salario neto es de es de: $\",res)"
      ],
      "execution_count": null,
      "outputs": []
    },
    {
      "cell_type": "code",
      "metadata": {
        "id": "xL3Q7RLlkq4j"
      },
      "source": [
        "#Problema 7\n",
        "print(\"Este programa calcula las tarifas de un museo\")\n",
        "print(\"\\nSeleccione su edad:\\na) Menor a 4 años\\nb) Entre 4 y 16 años\\nc) Adultos (mayor de 16 años)\")\n",
        "print(\"\\nSeleccione su ocupaciòn:\\na) Estudiante con credencial \\nb) Docente con credencial \\nc) INAPAM\\nd) Ninguna\")\n",
        "def tarifa(edad,ocupacion):\n",
        " if a==\"a\":\n",
        "  print(\"\\nSu entrada es gratis\")\n",
        " elif a=='b' and b=='a':\n",
        "  print(\"Usted paga $45 \")\n",
        " elif a=='b' and b=='c':\n",
        "  print(\"Usted paga $50\")\n",
        " elif a=='b' and b=='b':\n",
        "  print(\"Usted paga $50\")\n",
        " elif a=='b' and b=='d':\n",
        "  print(\"Usted paga $50\")\n",
        " elif a=='c' and b=='a':\n",
        "  print(\"Usted paga $90 \")\n",
        " elif a=='c' and b=='b':\n",
        "  print(\"Usted paga $70\")\n",
        " elif a=='c' and b=='c':\n",
        "  print(\"Usted paga $50\")\n",
        " elif a=='c' and b=='d':\n",
        "  print(\"Usted paga $100\")\n",
        "a=str (input(\"\\nIntroduzca su rango de edad: \"))\n",
        "b=str (input(\"Introduzca su ocupación: \"))\n",
        "tarifa(a,b)\n"
      ],
      "execution_count": null,
      "outputs": []
    },
    {
      "cell_type": "code",
      "metadata": {
        "id": "aeIjAZVgGPzs"
      },
      "source": [
        "#Programa 8\n",
        "print(\"Este programa pide un número entero y forma un triángulo con él\")\n",
        "\n",
        "num= int (input(\"\\nIntroduce un número entero: \"))\n",
        "for i in range(num):\n",
        "  # print(i)\n",
        "  print(' ' * (num - i - 1) + \"*\" * (2 * i + 1))\n"
      ],
      "execution_count": null,
      "outputs": []
    },
    {
      "cell_type": "code",
      "metadata": {
        "id": "rjkeQCp01VdO"
      },
      "source": [
        "#Programa 9\n",
        "print(\"Este programa pide un número entero y calcula su factorial\")\n",
        "def factorial(n): \n",
        "   resultado = 1\n",
        "   i = 1\n",
        "   while i <= n:\n",
        "     resultado = resultado * i\n",
        "     i = i + 1\n",
        "   print(\"Factorial:\",resultado)\n",
        "factorial(int (input(\"Número: \")))"
      ],
      "execution_count": null,
      "outputs": []
    },
    {
      "cell_type": "code",
      "metadata": {
        "id": "za98lWOH-CoI"
      },
      "source": [
        "#Programa 10\n",
        "print(\"Este programa cálcula el área de un circulo y también el volumen de un cilindro \\n\")\n",
        "\n",
        "print(\"Área de un circulo\")\n",
        "def area_circulo(radio):\n",
        " area = 3.141516 * radio**2\n",
        " return area\n",
        "resultado = area_circulo(float (input(\"Radio del circulo en cm: \")))\n",
        "print(\"Área=\",resultado,\"cm^2\")\n",
        "\n",
        "print (\"\\nVolumen de un cilindro\")\n",
        "def volumen_cilindro(area,altura):\n",
        " area =area_circulo(float (input(\"Radio del circulo en cm: \")))\n",
        " volumen=area*altura\n",
        " return volumen\n",
        "resultado= (volumen_cilindro(a,b))\n",
        "b= float(input(\"Altura en cm: \"))\n",
        "print(\"Volumen=\",resultado,\"cm^3\")"
      ],
      "execution_count": null,
      "outputs": []
    }
  ]
}